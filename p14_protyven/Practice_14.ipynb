{
  "cells": [
    {
      "cell_type": "markdown",
      "metadata": {
        "id": "FMqboNwO4rVs"
      },
      "source": [
        "# **Курс \"Програмування на мові Python\"**"
      ]
    },
    {
      "cell_type": "markdown",
      "metadata": {
        "id": "A2T6MigL5Z06"
      },
      "source": [
        "## **Практичне зайняття №14**\n",
        "\n",
        "### Тема: \"Робота зі спеціальними форматами файлів\""
      ]
    },
    {
      "cell_type": "markdown",
      "metadata": {
        "id": "vCvHmWWH3nD8"
      },
      "source": [
        "***Перед початком роботи завантажте усі необхідні файли!***"
      ]
    },
    {
      "cell_type": "markdown",
      "metadata": {
        "id": "Zr6bpDx_RG0v"
      },
      "source": [
        "### **1. Робота з CSV-файлами**"
      ]
    },
    {
      "cell_type": "markdown",
      "metadata": {
        "id": "pd8etOHeRtys"
      },
      "source": [
        "Формат **CSV** (Comma Separated Values) - найбільш використовуваний формат для імпортування та експортування електронних таблиць та баз даних. CSV не є універсальним стандартом для всіх застосунків, що можуть мати свої специфічні норми та стандарти.\n",
        "\n",
        "Поля у CSV-файлі розділені комами та символами переносу на новий рядок.\n",
        "\n",
        "Для прикладу завантажимо файл titanic.csv (для цього скористаємось функцією **get()** модуля **requests**), та запишемо його вміст у список titanic."
      ]
    },
    {
      "cell_type": "code",
      "execution_count": null,
      "metadata": {
        "id": "sX9u_OvDMkDu"
      },
      "outputs": [],
      "source": [
        "import requests\n",
        "\n",
        "r = requests.get('https://web.stanford.edu/class/archive/cs/cs109/cs109.1166/stuff/titanic.csv', allow_redirects=True)\n",
        "open('titanic.csv', 'wb').write(r.content)"
      ]
    },
    {
      "cell_type": "code",
      "execution_count": null,
      "metadata": {
        "id": "D-Jm9wSDVb-X"
      },
      "outputs": [],
      "source": [
        "import re\n",
        "\n",
        "titanic = []\n",
        "with open('titanic.csv', 'r') as f:\n",
        "    lines = f.readlines()\n",
        "    for line in lines:\n",
        "        new_line = line.replace('\\n', '')\n",
        "        split = re.split(',',new_line)\n",
        "        titanic.append(split)\n",
        "        print(split)"
      ]
    },
    {
      "cell_type": "markdown",
      "metadata": {
        "id": "XzEbVIP7b4Yk"
      },
      "source": [
        "Однак є простіший спосіб роботи з CSV-файлами. Модуль csv містить функції, призначені для автоматичного зчитування та запису даних у CSV-файл. Деякі з цих функції наведені нижче.\n",
        "\n",
        "- **csv.reader (csvfile, dialect='excel',** **fmtparams)** - повертає об'єкт, що ітерується. На кожній ітерації повертає один рядок файлу. dialect - необов'язковий параметр, в якому вказується діалект (різновид структури) CSV-файлу, який буде використаний (усі діалекти подані у таблиці нижче). Аргумент fmtparams (також необов'язковий) може бути використаний для перезапису параметрів форматування поточного діалекту.\n",
        "\n",
        "- **csv.writer (csvfile, dialect='excel',** **fmtparams)** - повертає об'єкт, що ітерується, призначений для конвертації користувацьких даних у формат CSV.\n",
        "\n",
        "- **csv.list_dialects()** - повертає назви усіх можливих діалектів.\n",
        "\n",
        "Перелік усіх наявних у Python діалектів:\n",
        "\n",
        "Parameter\t| excel\t| excel-tab\t| unix\n",
        "--- | --- | --- | ---\n",
        "delimiter\t| ,\t| \\t\t| ,\n",
        "doublequote\t| True\t| True\t| True\n",
        "escapechar\t| None\t| None\t| None\n",
        "lineterminator\t| \\r\\n\t| \\r\\n\t| \\n\n",
        "quotechar\t| \"\t| \"\t| \"\n",
        "quoting\t| csv.QUOTE_MINIMAL\t| csv.QUOTE_MINIMAL\t| csv.QUOTE_ALL\n",
        "skipinitialspace\t| False\t| False\t| False\n",
        "strict | False\t| False\t| False"
      ]
    },
    {
      "cell_type": "markdown",
      "metadata": {
        "id": "GW6VpTo9inPc"
      },
      "source": [
        "З функції csv.writer() можна отримати ще 3 методи: **writerow()**, **writerows()** та **dialect**.\n",
        "\n",
        "- **csvwriter.writerow(row)** - записує рядок row, форматований відповідно до поточного діалекту, у файловий об'єкт.\n",
        "\n",
        "- **csvwriter.writerows(rows)** - записує всі рядки у файловий об'єкт.\n",
        "\n",
        "- **csvwriter.dialect** - опис діалекту, що використовується.\n",
        "\n",
        "Рзглянемо приклад. За замовчуванням буде використовуватсь діалект 'excel' (файл можна буде потім відкрити у програмі Microsoft Excel)."
      ]
    },
    {
      "cell_type": "code",
      "execution_count": null,
      "metadata": {
        "id": "4FXNUwdSiTEV"
      },
      "outputs": [],
      "source": [
        "import csv\n",
        "\n",
        "print('Crearting CSV file')\n",
        "with open('sample.csv', 'w', newline='') as csvfile:\n",
        "    writer = csv.writer(csvfile)\n",
        "    writer.writerow(['She Loves You', 'Sept 1963'])\n",
        "    writer.writerow(['I Want to Hold Your Hand', 'Dec 1963'])\n",
        "    writer.writerow(['Cant Buy Me Love', 'Apr 1964'])\n",
        "    writer.writerow(['A Hard Days Night', 'July 1964'])"
      ]
    },
    {
      "cell_type": "markdown",
      "metadata": {
        "id": "ec9cb0YvwSyD"
      },
      "source": [
        "Функція **csv.reader()** використовується разом із циклом for для порядкового зчитування даних з файлу. Вона містить такі додаткові методи:\n",
        "\n",
        "- **csvreader.dialect** - опис діалекту, що використовується.\n",
        "\n",
        "- **csvreader.line_num** - повертає кількість рядків, отриманих з ітератора.\n",
        "\n",
        "Приклад використання функції csv.reader():"
      ]
    },
    {
      "cell_type": "code",
      "execution_count": null,
      "metadata": {
        "id": "AAOVFLOLtOTn"
      },
      "outputs": [],
      "source": [
        "print('Starting to read csv file')\n",
        "with open('sample.csv', newline='') as csvfile:\n",
        "    reader = csv.reader(csvfile)\n",
        "    for row in reader:\n",
        "        print(*row, sep=', ')\n",
        "print('Done Reading')"
      ]
    },
    {
      "cell_type": "markdown",
      "metadata": {
        "id": "-ru_fYg-zI5g"
      },
      "source": [
        "Дуже часто перший рядок CSV-файлу містить назви полів таблиці. Зберігати цю інформацію дуже корисно, щоб потім у відповідний спосіб формувати дані, зчитані з CSV-файлу або записані у CSV-файл.\n",
        "\n",
        "Функція **csv.DictWriter()** повертає об'єкт, що може використовуватись для запису значень у CSV-файл з використанням іменованих колонок. Приклад:"
      ]
    },
    {
      "cell_type": "code",
      "execution_count": null,
      "metadata": {
        "id": "SoJ9VLglyRC_"
      },
      "outputs": [],
      "source": [
        "import csv\n",
        "with open('names.csv', 'w', newline='') as csvfile:\n",
        "    fieldnames = ['first_name', 'last_name', 'result']\n",
        "    writer = csv.DictWriter(csvfile, fieldnames=fieldnames)\n",
        "    writer.writeheader()\n",
        "    writer.writerow({'first_name': 'John',\n",
        "                     'last_name': 'Smith',\n",
        "                     'result' : 54})\n",
        "    writer.writerow({'first_name': 'Jane',\n",
        "                     'last_name': 'Lewis',\n",
        "                     'result': 63})\n",
        "    writer.writerow({'first_name': 'Chris',\n",
        "                     'last_name': 'Davies',\n",
        "                     'result' : 72})"
      ]
    },
    {
      "cell_type": "markdown",
      "metadata": {
        "id": "y-8XyGzj3fWc"
      },
      "source": [
        "Зверніть увагу, що список заголовків задається під час виклику функції DictWriter().\n",
        "\n",
        "Метод **writeheader()** використовується для запису рядка із заголовками у CSV-файл.\n",
        "\n",
        "Метод **writerow()** приймає на вхід словник, ключі якого мають відповідати назвам колонок. Порядок елемнтів у словнику не має значення. Значення, що відповідають ключам, записуються на відповідні позиції у CSV-файлі.\n",
        "\n",
        "Якщо файлу names.csv не існує, він створюється автоматично."
      ]
    },
    {
      "cell_type": "markdown",
      "metadata": {
        "id": "3uP1jV3vfOB-"
      },
      "source": [
        "Разом з функцією csv.DictWriter(), яка використовується для запису файлу з назвами колонок, існує функція **csv.DictReader()**, яка зчитує ці файли.\n",
        "\n",
        "**fieldnames** - параметр функції csv.DictReader(), що зберігає список ключів (заголовків) CSV-файлу (перший рядок файлу).\n",
        "\n",
        "Приклад для текстового файлу names.csv наведено нижче:"
      ]
    },
    {
      "cell_type": "code",
      "execution_count": null,
      "metadata": {
        "id": "eRzW_Na72-Ml"
      },
      "outputs": [],
      "source": [
        "import csv\n",
        "print('Starting to read dict CSV example')\n",
        "with open('names.csv', newline='') as csvfile:\n",
        "    reader = csv.DictReader(csvfile)\n",
        "    for heading in reader.fieldnames:\n",
        "        print(heading, end=' ')\n",
        "    print('\\n------------------------------')\n",
        "    for row in reader:\n",
        "        print(row['first_name'], row['last_name'], row['result'])\n",
        "print('Done')"
      ]
    },
    {
      "cell_type": "markdown",
      "metadata": {
        "id": "MKLXRWQKlB18"
      },
      "source": [
        "### **2. Робота з JSON-файлами**"
      ]
    },
    {
      "cell_type": "markdown",
      "metadata": {
        "id": "Xo7iQEdalD0k"
      },
      "source": [
        "**JSON-файл** (JavaScript Object Notation File) - це розповсюджений формат даних, що використовується для збереження структурованих даних. Він базується на двох структурах даних: словник та список.\n",
        "\n",
        "У мові Python JSON-об'єкт зберігається у вигляді рядка. Наприклад:\n"
      ]
    },
    {
      "cell_type": "code",
      "execution_count": null,
      "metadata": {
        "id": "FpYdepsgizpm"
      },
      "outputs": [],
      "source": [
        "p = '{\"name\": \"Bob\", \"languages\": [\"Python\", \"Java\"]}'"
      ]
    },
    {
      "cell_type": "markdown",
      "metadata": {
        "id": "90Wxm7Dgnx5D"
      },
      "source": [
        "Щоб працювати з JSON-рядками (або файлами, що зберігають JSON-об'єкт), необхідно імпортувати модуль **json**.\n",
        "\n",
        "Щоб перетворити JSON-рядок у словник, можна застосувати метод **json.loads()**. У наступному прикладі person - це JSON-рядок, person_dict - словник."
      ]
    },
    {
      "cell_type": "code",
      "execution_count": null,
      "metadata": {
        "id": "zDd8gfvcqDnQ"
      },
      "outputs": [],
      "source": [
        "import json\n",
        "\n",
        "person = '{\"name\": \"Bob\", \"languages\": [\"English\", \"Fench\"]}'\n",
        "person_dict = json.loads(person)\n",
        "\n",
        "print(person_dict)\n",
        "print(person_dict['languages'])"
      ]
    },
    {
      "cell_type": "markdown",
      "metadata": {
        "id": "QUMnBsmYqzlX"
      },
      "source": [
        "Для читання файлу, що зберігає JSON-об'єкт, можна скористатись методом **json.load()**. Якщо існує файл person.json, прочитати його можна так:"
      ]
    },
    {
      "cell_type": "code",
      "execution_count": null,
      "metadata": {
        "id": "FlCjektkqGEz"
      },
      "outputs": [],
      "source": [
        "import json\n",
        "\n",
        "with open('person.json') as f:\n",
        "    data = json.load(f)\n",
        "\n",
        "print(data)"
      ]
    },
    {
      "cell_type": "markdown",
      "metadata": {
        "id": "dxjBz7T2tymV"
      },
      "source": [
        "Щоб конвертувати словник у JSON-рядок, можна скористатись методом **json.dumps()**:"
      ]
    },
    {
      "cell_type": "code",
      "execution_count": null,
      "metadata": {
        "id": "KoopAnbitrLg"
      },
      "outputs": [],
      "source": [
        "import json\n",
        "\n",
        "person_dict = {'name': 'Bob',\n",
        "'age': 12,\n",
        "'children': None\n",
        "}\n",
        "person_json = json.dumps(person_dict)\n",
        "\n",
        "print(person_json)"
      ]
    },
    {
      "cell_type": "markdown",
      "metadata": {
        "id": "OyFEviKTvAMJ"
      },
      "source": [
        "У таблиці подано об'єкти Python та їхні відповідники у JSON.\n",
        "\n",
        "Python | JSON Equivalent\n",
        "--- | ---\n",
        "dict\t| object\n",
        "list, tuple\t| array\n",
        "str\t| string\n",
        "int, float, int\t| number\n",
        "True\t| true\n",
        "False\t| false\n",
        "None\t| null"
      ]
    },
    {
      "cell_type": "markdown",
      "metadata": {
        "id": "NN0kFJa1v85B"
      },
      "source": [
        "Щоб записати словник у текстовий файл, можна застосувати метод **json.dump()**:"
      ]
    },
    {
      "cell_type": "code",
      "execution_count": null,
      "metadata": {
        "id": "wG_pyiv_uocQ"
      },
      "outputs": [],
      "source": [
        "import json\n",
        "\n",
        "person_dict = {\"name\": \"Bob\",\n",
        "\"languages\": [\"English\", \"Fench\"],\n",
        "\"married\": True,\n",
        "\"age\": 32\n",
        "}\n",
        "\n",
        "with open('person.json', 'w') as json_file:\n",
        "    json.dump(person_dict, json_file)"
      ]
    },
    {
      "cell_type": "markdown",
      "metadata": {
        "id": "_7oLMs6M0SKY"
      },
      "source": [
        "Перевірка записаних даних:"
      ]
    },
    {
      "cell_type": "code",
      "execution_count": null,
      "metadata": {
        "id": "oFe3j23r0Qoh"
      },
      "outputs": [],
      "source": [
        "with open('person.json') as f:\n",
        "    data = json.load(f)\n",
        "\n",
        "print(data)"
      ]
    },
    {
      "cell_type": "markdown",
      "metadata": {
        "id": "alHTMa94wuuY"
      },
      "source": [
        "Щоб роздрукувати JSON-об'єкт у більш читабельному вигляді, до методів json.dumps() та json.dump() додають додаткові параметри **indent** та **sort_keys**.\n",
        "\n",
        "Параметр indent зберігає кількість пробілів для відступу (за замовчуванням - None).\n",
        "\n",
        "Параметр sort_keys може набувати значеннь True або False в залежності від того, чи потрібно сортувати ключі словника в алфавітному порядку.\n",
        "\n",
        "Приклад:"
      ]
    },
    {
      "cell_type": "code",
      "execution_count": null,
      "metadata": {
        "id": "m8Et1tNc1tMY"
      },
      "outputs": [],
      "source": [
        "import json\n",
        "\n",
        "person_string = '{\"name\": \"Bob\", \"languages\": \"English\", \"numbers\": [2, 1.6, null]}'\n",
        "person_dict = json.loads(person_string)\n",
        "\n",
        "print(json.dumps(person_dict, indent = 4, sort_keys=True))"
      ]
    },
    {
      "cell_type": "code",
      "execution_count": null,
      "metadata": {},
      "outputs": [],
      "source": []
    }
  ],
  "metadata": {
    "colab": {
      "collapsed_sections": [
        "Zr6bpDx_RG0v"
      ],
      "name": "Practice_14.ipynb",
      "provenance": [],
      "toc_visible": true
    },
    "kernelspec": {
      "display_name": "Python 3",
      "name": "python3"
    },
    "language_info": {
      "codemirror_mode": {
        "name": "ipython",
        "version": 3
      },
      "file_extension": ".py",
      "mimetype": "text/x-python",
      "name": "python",
      "nbconvert_exporter": "python",
      "pygments_lexer": "ipython3",
      "version": "3.10.0"
    }
  },
  "nbformat": 4,
  "nbformat_minor": 0
}
